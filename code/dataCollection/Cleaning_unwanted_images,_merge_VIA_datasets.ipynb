{
  "nbformat": 4,
  "nbformat_minor": 0,
  "metadata": {
    "colab": {
      "provenance": []
    },
    "kernelspec": {
      "name": "python3",
      "display_name": "Python 3"
    },
    "language_info": {
      "name": "python"
    }
  },
  "cells": [
    {
      "cell_type": "code",
      "source": [
        "from google.colab import drive\n",
        "drive.mount('/content/drive',force_remount=True)"
      ],
      "metadata": {
        "colab": {
          "base_uri": "https://localhost:8080/"
        },
        "id": "Obh77yxgUpty",
        "outputId": "99e31e22-cc01-4cf6-b997-76368fffa119"
      },
      "execution_count": null,
      "outputs": [
        {
          "output_type": "stream",
          "name": "stdout",
          "text": [
            "Mounted at /content/drive\n"
          ]
        }
      ]
    },
    {
      "cell_type": "code",
      "source": [
        "import os\n",
        "import json\n",
        "json_path = \"/content/drive/MyDrive/Autonomous Drone/BuildingDataset/Pablo/JSON/trainingData-50_01.json\"\n",
        "\n",
        "with open(json_path, \"r\") as f:\n",
        "  data = json.load(f)\n",
        "img_metadata = data.get(\"_via_img_metadata\", {})\n",
        "\n",
        "# Extract all filenames into a list\n",
        "filenames = [entry[\"filename\"] for entry in img_metadata.values() if \"filename\" in entry]\n",
        "print(f\"Extracted {len(filenames)} filenames.\")\n",
        "filenames\n",
        "\n",
        "# image_folder = \"/content/drive/MyDrive/Autonomous Drone/BuildingDataset/Nelson/Images\"\n",
        "# cnt = 0\n",
        "# for file in os.listdir(image_folder):\n",
        "#   cnt+=1\n",
        "#   print(file)\n",
        "# print(cnt)"
      ],
      "metadata": {
        "colab": {
          "base_uri": "https://localhost:8080/"
        },
        "id": "r5vYeONrWgpd",
        "outputId": "0938a81c-6b5a-4b5b-ffa9-656eaf4d2087"
      },
      "execution_count": null,
      "outputs": [
        {
          "output_type": "stream",
          "name": "stdout",
          "text": [
            "Extracted 50 filenames.\n"
          ]
        },
        {
          "output_type": "execute_result",
          "data": {
            "text/plain": [
              "['50-story-tower-just-approved-for-downtown-los-angeles-v0-pcjhcoa9zc9d1.jpg',\n",
              " 'onni la times development scb dtla 3.jpg',\n",
              " 'the-broad-downtown-la.jpg',\n",
              " 'e38fb17345ba807da734397965ec830c_t.jpeg',\n",
              " 'Leyte Provincial Capitol.jpg',\n",
              " 'image.jpg',\n",
              " 'Century_Plaza_Towers_Century_Park_(15572334135).jpg',\n",
              " 'AMDA_quick pano-smallcrop-sidewalk-2.jpg',\n",
              " 'images.jpg',\n",
              " '360_F_256694284_XkhQFaJ42Y64iEcqmHsjAGvSfdlA6K2T.jpg',\n",
              " 'shutterstock_2013020999__750x1000____v1220x__.jpg',\n",
              " 'cheapish-hero-shot.jpeg',\n",
              " 'USA_Kebony_70720Yale_Kristian20Alveo_hi-res-18-002.jpg',\n",
              " '5601Fishers.jpg',\n",
              " 'millikan-library-caltech.jpg',\n",
              " 'TDB-L-HARBORUCLAUPGRADE-1128-1.jpg',\n",
              " '03a_CO_UCLA-La-Kretz_Photo-KimRodgers_15.jpg',\n",
              " 'Prtizker-ArchNews-1.jpg',\n",
              " '8383041759_82f1d321d0_b.jpg',\n",
              " '4378.jpg',\n",
              " 'Arch2O-san-diego-architecture-10-exquisite-buildings-that-capture-the-citys-charm-1.jpg',\n",
              " 'Irvine_High_Campus,_Exterior_Buildings.jpg',\n",
              " 'ATR-Building-1.jpg',\n",
              " '400IS_1200x600.jpg',\n",
              " 'Irvine-Spectrum.jpg',\n",
              " 'langson-library.jpg',\n",
              " 'w-h-spurgeon-building-santa-ana-california-147099489.jpg',\n",
              " '888-N-Main-St-Santa-Ana-CA-Building-1-HighDefinition-1.jpg',\n",
              " 'YMCA.2019.09.Photo_.EDIT-1.jpg',\n",
              " 'rankin-building-santa-ana.jpg',\n",
              " 'ronald-reagan-federal-building.jpg',\n",
              " 'BE-Inspection-ASF-10.23.2022-30-scaled.jpg',\n",
              " '20191209_OldOrangeCoCourthouseSantaAnaCA2.jpg',\n",
              " '8e6407ec06a346b4b515022267f0f051e-f2132370260rd-w480_h360.jpg',\n",
              " 'b36a302d646534d99b72c48ed1432138e-f2369561517rd-w480_h360.jpg',\n",
              " '84f6eb4bb591b212911d8e8dbbbb4fcce-f3588052721rd-w480_h360.jpg',\n",
              " '25344_7_0.jpg',\n",
              " '1.2904_S_Washington_St__Seattle_Large-7HHaug_gao9km.jpg',\n",
              " 'istockphoto-876864896-612x612.jpg',\n",
              " 'best-places-to-buy-a-home-in-seattle-ballard.jpg',\n",
              " 'LincolnMem-sb10065079q-crop-56a02eaf3df78cafdaa06e3a.jpg',\n",
              " 'washingtonDC-archives-564114277-crop-58ec646d3df78c516256d9ae.jpg',\n",
              " 'UCR-SSC-2.png',\n",
              " 'USA_02016198_00_N3_medium.jpg',\n",
              " 'flatiron.jpg',\n",
              " 'shutterstock_215457934__664x1000____v1220x__.jpg',\n",
              " 'link-tower-new-tallest-building-of-tijuana-mexico-v0-1tuigmrr3vyc1.jpg',\n",
              " '0321mariagstfrancis2.jpg',\n",
              " 'IMG_4121 copy.jpg',\n",
              " '20200625-3.jpg']"
            ]
          },
          "metadata": {},
          "execution_count": 3
        }
      ]
    },
    {
      "cell_type": "code",
      "execution_count": null,
      "metadata": {
        "colab": {
          "base_uri": "https://localhost:8080/"
        },
        "id": "74LdHMEDSpkc",
        "outputId": "93bdc5a6-5108-47ee-f06b-8858b749493f"
      },
      "outputs": [
        {
          "output_type": "stream",
          "name": "stdout",
          "text": [
            "Extracted 59 filenames.\n",
            "['Screenshot 2025-07-15 at 9.09.49\\u202fAM.png', 'Screenshot 2025-07-15 at 9.12.37\\u202fAM.png', 'Screenshot 2025-07-15 at 9.15.34\\u202fAM.png', 'Screenshot 2025-07-15 at 9.21.43\\u202fAM.png', 'Screenshot 2025-07-15 at 9.30.27\\u202fAM.png', 'Screenshot 2025-07-15 at 9.31.08\\u202fAM.png', 'Screenshot 2025-07-15 at 9.41.13\\u202fAM.png', 'Screenshot 2025-07-15 at 9.56.34\\u202fAM.png', 'Screenshot 2025-07-15 at 10.33.36\\u202fAM.png', 'Screenshot 2025-07-15 at 10.53.46\\u202fAM.png', 'Screenshot 2025-07-15 at 11.01.03\\u202fAM.png', 'Screenshot 2025-07-15 at 11.01.18\\u202fAM.png', 'Screenshot 2025-07-15 at 11.07.14\\u202fAM.png', 'Screenshot 2025-07-15 at 11.15.41\\u202fAM.png', 'Screenshot 2025-07-15 at 11.19.54\\u202fAM.png', 'Screenshot 2025-07-15 at 11.20.57\\u202fAM.png', 'Screenshot 2025-07-15 at 11.21.21\\u202fAM.png', 'Screenshot 2025-07-15 at 11.22.01\\u202fAM.png', 'Screenshot 2025-07-15 at 11.22.41\\u202fAM.png', 'Screenshot 2025-07-15 at 11.23.06\\u202fAM.png', 'Screenshot 2025-07-15 at 11.23.27\\u202fAM.png', 'Screenshot 2025-07-15 at 11.23.58\\u202fAM.png', 'Screenshot 2025-07-15 at 11.24.37\\u202fAM.png', 'Screenshot 2025-07-15 at 11.24.50\\u202fAM.png', 'Screenshot 2025-07-15 at 1.26.29\\u202fPM.png', 'Screenshot 2025-07-15 at 1.30.16\\u202fPM.png', 'Screenshot 2025-07-15 at 1.31.18\\u202fPM.png', 'Screenshot 2025-07-15 at 1.31.41\\u202fPM.png', 'Screenshot 2025-07-15 at 1.32.34\\u202fPM.png', 'Screenshot 2025-07-15 at 1.34.19\\u202fPM.png', 'Screenshot 2025-07-15 at 1.35.35\\u202fPM.png', 'Screenshot 2025-07-15 at 1.36.11\\u202fPM.png', 'Screenshot 2025-07-15 at 1.37.19\\u202fPM.png', 'Screenshot 2025-07-15 at 1.40.57\\u202fPM.png', 'Screenshot 2025-07-15 at 1.43.21\\u202fPM.png', 'Screenshot 2025-07-15 at 1.44.35\\u202fPM.png', 'Screenshot 2025-07-15 at 1.44.44\\u202fPM.png', 'Screenshot 2025-07-15 at 1.44.52\\u202fPM.png', 'Screenshot 2025-07-15 at 1.45.10\\u202fPM.png', 'Screenshot 2025-07-15 at 1.45.19\\u202fPM.png', 'Screenshot 2025-07-15 at 1.46.47\\u202fPM.png', 'Screenshot 2025-07-15 at 1.48.53\\u202fPM.png', 'Screenshot 2025-07-15 at 1.51.19\\u202fPM.png', 'Screenshot 2025-07-15 at 1.52.07\\u202fPM.png', 'Screenshot 2025-07-15 at 1.52.34\\u202fPM.png', 'Screenshot 2025-07-15 at 1.54.16\\u202fPM.png', 'Screenshot 2025-07-08 at 1.40.23\\u202fPM.png', 'Screenshot 2025-07-10 at 9.08.51\\u202fAM.png', 'Screenshot 2025-07-10 at 9.09.46\\u202fAM.png', 'Screenshot 2025-07-10 at 9.12.22\\u202fAM.png', 'Screenshot 2025-07-10 at 9.14.54\\u202fAM.png', 'Screenshot 2025-07-10 at 9.16.18\\u202fAM.png', 'Screenshot 2025-07-10 at 9.21.59\\u202fAM.png', 'Screenshot 2025-07-10 at 9.22.34\\u202fAM.png', 'Screenshot 2025-07-10 at 9.23.29\\u202fAM.png', 'Screenshot 2025-07-10 at 9.24.08\\u202fAM.png', 'Screenshot 2025-07-10 at 9.24.36\\u202fAM.png', 'Screenshot 2025-07-10 at 9.26.58\\u202fAM.png', 'Screenshot 2025-07-10 at 9.27.51\\u202fAM.png']\n",
            "Deleting file: /content/drive/MyDrive/Autonomous Drone/BuildingDataset/Nelson/Images/Screenshot 2025-07-10 at 9.13.40 AM.png\n",
            "Deleting file: /content/drive/MyDrive/Autonomous Drone/BuildingDataset/Nelson/Images/Screenshot 2025-07-10 at 9.24.55 AM.png\n",
            "Deleting file: /content/drive/MyDrive/Autonomous Drone/BuildingDataset/Nelson/Images/Screenshot 2025-07-15 at 11.11.37 AM.png\n",
            "Deleting file: /content/drive/MyDrive/Autonomous Drone/BuildingDataset/Nelson/Images/Screenshot 2025-07-15 at 11.12.16 AM.png\n",
            "Deleting file: /content/drive/MyDrive/Autonomous Drone/BuildingDataset/Nelson/Images/Screenshot 2025-07-15 at 11.13.36 AM.png\n",
            "Deleted 5 unannotated files:\n",
            "  Screenshot 2025-07-10 at 9.13.40 AM.png\n",
            "  Screenshot 2025-07-10 at 9.24.55 AM.png\n",
            "  Screenshot 2025-07-15 at 11.11.37 AM.png\n",
            "  Screenshot 2025-07-15 at 11.12.16 AM.png\n",
            "  Screenshot 2025-07-15 at 11.13.36 AM.png\n"
          ]
        }
      ],
      "source": [
        "\n",
        "\n",
        "def delete_unannotated_images(via_json_path, image_folder):\n",
        "    with open(via_json_path, \"r\") as f:\n",
        "      data = json.load(f)\n",
        "    img_metadata = data.get(\"_via_img_metadata\", {})\n",
        "\n",
        "    # Extract all filenames into a list\n",
        "    filenames = [entry[\"filename\"] for entry in img_metadata.values() if \"filename\" in entry]\n",
        "    print(f\"Extracted {len(filenames)} filenames.\")\n",
        "    print(filenames)\n",
        "\n",
        "    # Loop through files in the image folder\n",
        "    deleted_files = []\n",
        "    for file in os.listdir(image_folder):\n",
        "        if file not in filenames:\n",
        "            file_path = os.path.join(image_folder, file)\n",
        "            print(f\"Deleting file: {file_path}\")\n",
        "            os.remove(file_path)\n",
        "            deleted_files.append(file)\n",
        "\n",
        "    print(f\"Deleted {len(deleted_files)} unannotated files:\")\n",
        "    for f in deleted_files:\n",
        "        print(f\"  {f}\")\n",
        "delete_unannotated_images(json_path, image_folder)\n",
        "\n",
        "\n"
      ]
    },
    {
      "cell_type": "markdown",
      "source": [
        "# MERGE VIA PROJECTS"
      ],
      "metadata": {
        "id": "iTdGdIvSbZNO"
      }
    },
    {
      "cell_type": "code",
      "source": [
        "# Merge two or more VIA2 projects\n",
        "#\n",
        "# Author: Abhishek Dutta <adutta@robots.ox.ac.uk>\n",
        "# Date: 18 May 2020\n",
        "\n",
        "import json\n",
        "\n",
        "def ploy2rect(plygon_dict):\n",
        "    rect_dict = {'name' : 'rect'}\n",
        "    rect_dict['x'] = min(plygon_dict['all_points_x'])\n",
        "    rect_dict['y'] = min(plygon_dict['all_points_y'])\n",
        "    rect_dict['width'] = max(plygon_dict['all_points_x']) - rect_dict['x']\n",
        "    rect_dict['height'] = max(plygon_dict['all_points_y']) - rect_dict['y']\n",
        "    return(rect_dict)\n",
        "\n",
        "# add the filename of all VIA2 projects\n",
        "# Note: all VIA projects should have same attributes and project settings\n",
        "# filename_list = ['via_project1.json', 'via_project2.json', 'via_project3.json']\n",
        "filename_list = [\n",
        "                  \"/content/drive/MyDrive/Autonomous Drone/BuildingDataset/Amun/JSON/via_project_15Jul2025_11h15m.json\", # Amun\n",
        "                  \"/content/drive/MyDrive/Autonomous Drone/BuildingDataset/Amun/JSON/via_project_9Jul2025_23h39m.json\",\n",
        "                  \"/content/drive/MyDrive/Autonomous Drone/BuildingDataset/Arjun/JSON/arjuns_images.json\", # Arjun\n",
        "                  \"/content/drive/MyDrive/Autonomous Drone/BuildingDataset/Nelson/Annotations/59x_Merged_nelson.json\", #nelson\n",
        "                  \"/content/drive/MyDrive/Autonomous Drone/BuildingDataset/Pablo/JSON/trainingData-50_01.json\", # Pablo\n",
        "                  ]\n",
        "\n",
        "output_filename = \"/content/drive/MyDrive/Autonomous Drone/BuildingDataset/training_data_208.json\"\n",
        "\n",
        "# copy attributes and other project settings from one of the projects\n",
        "# assumption: all the projects have same attributes and settings\n",
        "via2 = {}\n",
        "with open(filename_list[0], 'r') as f:\n",
        "  via2 = json.load(f)\n",
        "\n",
        "if '_via_data_format_version' not in via2:\n",
        "  via2['_via_data_format_version'] = '2.0.10'\n",
        "  via2['_via_image_id_list'] = via2['_via_img_metadata'].keys()\n",
        "\n",
        "via2['_via_img_metadata'].clear()\n",
        "\n",
        "via2['_via_image_id_list'].clear()\n",
        "\n",
        "\n",
        "discarded_count = 0\n",
        "for i in range(0, len(filename_list)):\n",
        "    print(f\"Processing {filename_list[i]}\")\n",
        "    with open(filename_list[i], 'r') as f:\n",
        "      pdata_i = json.load(f)\n",
        "\n",
        "    for metadata_i in pdata_i['_via_img_metadata']:\n",
        "      # check if a metadata is set and does not exist\n",
        "      if len(pdata_i['_via_img_metadata'][metadata_i]['regions']) > 0 and metadata_i not in via2['_via_img_metadata']:\n",
        "\n",
        "        via2['_via_img_metadata'][metadata_i] = pdata_i['_via_img_metadata'][metadata_i]\n",
        "\n",
        "        for rdata_i in pdata_i['_via_img_metadata'][metadata_i]['regions']:\n",
        "            if rdata_i is None:\n",
        "                print(f\"Warning: Found None region in {filename_list[i]} for image {metadata_i}, skipping...\")\n",
        "                continue\n",
        "            shape_attrs = rdata_i.get(\"shape_attributes\")\n",
        "            if rdata_i is None:\n",
        "                print(f\"Warning: Found None region in {filename_list[i]} for image {metadata_i}, skipping...\")\n",
        "                continue\n",
        "\n",
        "        via2['_via_image_id_list'].append(metadata_i)\n",
        "      else:\n",
        "        print(f\"Discarded metadata from {filename_list[i]}: {metadata_i}\")\n",
        "        discarded_count = discarded_count + 1\n",
        "\n",
        "\n",
        "via2['_via_image_id_list'] = sorted(via2['_via_image_id_list'])\n",
        "\n",
        "# via_img_meta_sorted = {k:{v} for k in via2['_via_image_id_list'] for v in via2['_via_img_metadata'][k]}\n",
        "via_img_meta_sorted = {k: via2['_via_img_metadata'][k] for k in via2['_via_image_id_list']}\n",
        "\n",
        "via2['_via_img_metadata'].clear()\n",
        "via2['_via_img_metadata'] = via_img_meta_sorted\n",
        "\n",
        "\n",
        "\n",
        "with open(output_filename, 'w') as fout:\n",
        "  json.dump(via2, fout)\n",
        "print('Written merged project to %s (discarded %d metadata)' % (output_filename, discarded_count))\n"
      ],
      "metadata": {
        "colab": {
          "base_uri": "https://localhost:8080/"
        },
        "id": "nWz_ZN_GbXRr",
        "outputId": "46758780-ace5-4383-a6a8-c8c5947cf9f2"
      },
      "execution_count": null,
      "outputs": [
        {
          "output_type": "stream",
          "name": "stdout",
          "text": [
            "Processing /content/drive/MyDrive/Autonomous Drone/BuildingDataset/Amun/JSON/via_project_15Jul2025_11h15m.json\n",
            "Processing /content/drive/MyDrive/Autonomous Drone/BuildingDataset/Amun/JSON/via_project_9Jul2025_23h39m.json\n",
            "Processing /content/drive/MyDrive/Autonomous Drone/BuildingDataset/Arjun/JSON/arjuns_images.json\n",
            "Discarded metadata from /content/drive/MyDrive/Autonomous Drone/BuildingDataset/Arjun/JSON/arjuns_images.json: Screenshot 2025-07-15 at 9.43.58 AM.png3293027\n",
            "Processing /content/drive/MyDrive/Autonomous Drone/BuildingDataset/Nelson/Annotations/59x_Merged_nelson.json\n",
            "Processing /content/drive/MyDrive/Autonomous Drone/BuildingDataset/Pablo/JSON/trainingData-50_01.json\n",
            "Written merged project to /content/drive/MyDrive/Autonomous Drone/BuildingDataset/training_data_208.json (discarded 1 metadata)\n"
          ]
        }
      ]
    },
    {
      "cell_type": "code",
      "source": [
        "output_filename = \"/content/drive/MyDrive/Autonomous Drone/BuildingDataset/training_data_207.json\"\n",
        "with open(output_filename, \"r\") as f:\n",
        "  data = json.load(f)\n",
        "img_metadata = data.get(\"_via_img_metadata\", {})\n",
        "\n",
        "# Extract all filenames into a list\n",
        "filenames = [entry[\"filename\"] for entry in img_metadata.values() if \"filename\" in entry]\n",
        "print(f\"Extracted {len(filenames)} filenames.\")\n",
        "# filenames"
      ],
      "metadata": {
        "colab": {
          "base_uri": "https://localhost:8080/"
        },
        "id": "Aa0wEeJUA60y",
        "outputId": "86b7d77c-9d05-4465-ba53-1cdd8b88ad73"
      },
      "execution_count": null,
      "outputs": [
        {
          "output_type": "stream",
          "name": "stdout",
          "text": [
            "Extracted 207 filenames.\n"
          ]
        }
      ]
    },
    {
      "cell_type": "code",
      "source": [
        "import os\n",
        "image_folder = \"/content/drive/MyDrive/Autonomous Drone/BuildingDataset/trainingData\"\n",
        "\n",
        "print(\"Annotated files in VIA file: \",len(filenames))\n",
        "print(\"Files in image folder: \",len(os.listdir(image_folder)))\n",
        "\n",
        "for filename in filenames:\n",
        "    if filename not in os.listdir(image_folder):\n",
        "        print(f\"File not found: {filename}\")"
      ],
      "metadata": {
        "colab": {
          "base_uri": "https://localhost:8080/"
        },
        "id": "UASaVEbWBwHd",
        "outputId": "a3e284a6-0539-4d66-fe95-ba44e5278e65"
      },
      "execution_count": null,
      "outputs": [
        {
          "output_type": "stream",
          "name": "stdout",
          "text": [
            "Annotated files in VIA file:  207\n",
            "Files in image folder:  207\n"
          ]
        }
      ]
    }
  ]
}